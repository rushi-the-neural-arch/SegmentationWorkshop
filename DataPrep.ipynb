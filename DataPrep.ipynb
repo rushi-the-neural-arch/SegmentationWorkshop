{
 "cells": [
  {
   "cell_type": "code",
   "execution_count": 1,
   "id": "65b4f3e9",
   "metadata": {},
   "outputs": [],
   "source": [
    "import os\n",
    "import glob\n",
    "import random"
   ]
  },
  {
   "cell_type": "code",
   "execution_count": 27,
   "id": "192523db",
   "metadata": {},
   "outputs": [
    {
     "name": "stdout",
     "output_type": "stream",
     "text": [
      "5000\n"
     ]
    },
    {
     "data": {
      "text/plain": [
       "2000"
      ]
     },
     "execution_count": 27,
     "metadata": {},
     "output_type": "execute_result"
    }
   ],
   "source": [
    "train_image_list = []\n",
    "test_image_list = []\n",
    "\n",
    "for i in range(0, 5000):\n",
    "    train_image_list.append(random.choice(os.listdir(\"AllCombined/AllInputs/\")))\n",
    "    \n",
    "for i in range(0, 2000):\n",
    "    test_image_list.append(random.choice(os.listdir(\"AllCombined/AllInputs/\")))\n",
    "\n",
    "print(len(train_image_list))\n",
    "len(test_image_list)"
   ]
  },
  {
   "cell_type": "code",
   "execution_count": 28,
   "id": "0bde68ac",
   "metadata": {},
   "outputs": [
    {
     "data": {
      "text/plain": [
       "['First_00757.jpg',\n",
       " '00812_cont.png',\n",
       " 'baidu_V2_24739.jpg',\n",
       " 'syn_test_00090_crop.png',\n",
       " 'baidu_V2_25536.jpg']"
      ]
     },
     "execution_count": 28,
     "metadata": {},
     "output_type": "execute_result"
    }
   ],
   "source": [
    "test_image_list[:5]"
   ]
  },
  {
   "cell_type": "code",
   "execution_count": 29,
   "id": "c7412104",
   "metadata": {},
   "outputs": [],
   "source": [
    "import shutil\n",
    "\n",
    "src_input = \"AllCombined/AllInputs/\"\n",
    "train_dst_input = \"AllCombined/train/Inputs/\"\n",
    "\n",
    "src_mask = \"AllCombined/AllMasks/\"\n",
    "train_dst_mask = \"AllCombined/train/Masks/\"\n",
    "\n",
    "for file in train_image_list:\n",
    "    \n",
    "    shutil.copy(src_input + file, train_dst_input)\n",
    "    \n",
    "    mask_file = file.split('.')[0] + \".png\"\n",
    "    \n",
    "    shutil.copy(src_mask + mask_file, train_dst_mask)\n"
   ]
  },
  {
   "cell_type": "code",
   "execution_count": 30,
   "id": "9e012838",
   "metadata": {},
   "outputs": [],
   "source": [
    "import shutil\n",
    "\n",
    "src_input = \"AllCombined/AllInputs/\"\n",
    "test_dst_input = \"AllCombined/train/Inputs/\"\n",
    "\n",
    "src_mask = \"AllCombined/AllMasks/\"\n",
    "test_dst_mask = \"AllCombined/train/Masks/\"\n",
    "\n",
    "for file in test_image_list:\n",
    "    \n",
    "    shutil.copy(src_input + file, test_dst_input)\n",
    "    \n",
    "    mask_file = file.split('.')[0] + \".png\"\n",
    "    \n",
    "    shutil.copy(src_mask + mask_file, test_dst_mask)\n"
   ]
  },
  {
   "cell_type": "code",
   "execution_count": 31,
   "id": "35f85d64",
   "metadata": {},
   "outputs": [],
   "source": [
    "import shutil\n",
    "\n",
    "src_input = \"AllCombined/AllInputs/\"\n",
    "dst_input = \"AllCombined/test/Inputs/\"\n",
    "\n",
    "src_mask = \"AllCombined/AllMasks/\"\n",
    "dst_mask = \"AllCombined/test/Masks/\"\n",
    "\n",
    "for file in image_list:\n",
    "    \n",
    "    shutil.copy(src_input + file, dst_input)\n",
    "    \n",
    "    mask_file = file.split('.')[0] + \".png\"\n",
    "    \n",
    "    shutil.copy(src_mask + mask_file, dst_mask)\n"
   ]
  },
  {
   "cell_type": "code",
   "execution_count": null,
   "id": "d57d0bf9",
   "metadata": {},
   "outputs": [],
   "source": []
  }
 ],
 "metadata": {
  "kernelspec": {
   "display_name": "Python 3",
   "language": "python",
   "name": "python3"
  },
  "language_info": {
   "codemirror_mode": {
    "name": "ipython",
    "version": 3
   },
   "file_extension": ".py",
   "mimetype": "text/x-python",
   "name": "python",
   "nbconvert_exporter": "python",
   "pygments_lexer": "ipython3",
   "version": "3.8.8"
  }
 },
 "nbformat": 4,
 "nbformat_minor": 5
}
